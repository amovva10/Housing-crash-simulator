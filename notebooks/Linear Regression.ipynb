{
 "cells": [
  {
   "cell_type": "code",
   "execution_count": 1,
   "metadata": {},
   "outputs": [],
   "source": [
    "#Multiple Linear Regression Model\n",
    "\n",
    "#Import libraries\n",
    "import pandas as pd\n",
    "import numpy as np\n",
    "import seaborn as sns\n",
    "import matplotlib.pyplot as plt\n",
    "import scipy\n",
    "import pylab\n",
    "from matplotlib import pyplot"
   ]
  },
  {
   "cell_type": "code",
   "execution_count": 2,
   "metadata": {},
   "outputs": [
    {
     "data": {
      "text/html": [
       "<div>\n",
       "<style scoped>\n",
       "    .dataframe tbody tr th:only-of-type {\n",
       "        vertical-align: middle;\n",
       "    }\n",
       "\n",
       "    .dataframe tbody tr th {\n",
       "        vertical-align: top;\n",
       "    }\n",
       "\n",
       "    .dataframe thead th {\n",
       "        text-align: right;\n",
       "    }\n",
       "</style>\n",
       "<table border=\"1\" class=\"dataframe\">\n",
       "  <thead>\n",
       "    <tr style=\"text-align: right;\">\n",
       "      <th></th>\n",
       "      <th>DATE</th>\n",
       "      <th>building_permits</th>\n",
       "      <th>construction_price_index</th>\n",
       "      <th>delinquency_rate</th>\n",
       "      <th>GDP</th>\n",
       "      <th>housing_inventory</th>\n",
       "      <th>housing_subsidies</th>\n",
       "      <th>income</th>\n",
       "      <th>interest_rate</th>\n",
       "      <th>mortgage_rate</th>\n",
       "      <th>construction_unit</th>\n",
       "      <th>households</th>\n",
       "      <th>construction_spending_change</th>\n",
       "      <th>unemployment_rate</th>\n",
       "      <th>urban_population</th>\n",
       "      <th>home_price_index</th>\n",
       "    </tr>\n",
       "  </thead>\n",
       "  <tbody>\n",
       "    <tr>\n",
       "      <th>0</th>\n",
       "      <td>2003-01-01</td>\n",
       "      <td>1808</td>\n",
       "      <td>144.4</td>\n",
       "      <td>1.97</td>\n",
       "      <td>14614.141</td>\n",
       "      <td>76</td>\n",
       "      <td>25.93</td>\n",
       "      <td>10710.4</td>\n",
       "      <td>1.24</td>\n",
       "      <td>5.9160</td>\n",
       "      <td>1654</td>\n",
       "      <td>111278.0</td>\n",
       "      <td>1.5</td>\n",
       "      <td>5.8</td>\n",
       "      <td>79.583</td>\n",
       "      <td>128.461</td>\n",
       "    </tr>\n",
       "    <tr>\n",
       "      <th>1</th>\n",
       "      <td>2003-02-01</td>\n",
       "      <td>1854</td>\n",
       "      <td>145.2</td>\n",
       "      <td>1.97</td>\n",
       "      <td>14614.141</td>\n",
       "      <td>82</td>\n",
       "      <td>25.93</td>\n",
       "      <td>10674.0</td>\n",
       "      <td>1.26</td>\n",
       "      <td>5.8425</td>\n",
       "      <td>1688</td>\n",
       "      <td>111278.0</td>\n",
       "      <td>-0.1</td>\n",
       "      <td>5.9</td>\n",
       "      <td>79.583</td>\n",
       "      <td>129.355</td>\n",
       "    </tr>\n",
       "    <tr>\n",
       "      <th>2</th>\n",
       "      <td>2003-03-01</td>\n",
       "      <td>1757</td>\n",
       "      <td>145.2</td>\n",
       "      <td>1.97</td>\n",
       "      <td>14614.141</td>\n",
       "      <td>98</td>\n",
       "      <td>25.93</td>\n",
       "      <td>10696.5</td>\n",
       "      <td>1.25</td>\n",
       "      <td>5.7450</td>\n",
       "      <td>1638</td>\n",
       "      <td>111278.0</td>\n",
       "      <td>-1.1</td>\n",
       "      <td>5.9</td>\n",
       "      <td>79.583</td>\n",
       "      <td>130.148</td>\n",
       "    </tr>\n",
       "    <tr>\n",
       "      <th>3</th>\n",
       "      <td>2003-04-01</td>\n",
       "      <td>1803</td>\n",
       "      <td>145.9</td>\n",
       "      <td>1.83</td>\n",
       "      <td>14743.567</td>\n",
       "      <td>91</td>\n",
       "      <td>25.93</td>\n",
       "      <td>10752.7</td>\n",
       "      <td>1.26</td>\n",
       "      <td>5.8125</td>\n",
       "      <td>1662</td>\n",
       "      <td>111278.0</td>\n",
       "      <td>1.7</td>\n",
       "      <td>6.0</td>\n",
       "      <td>79.583</td>\n",
       "      <td>130.884</td>\n",
       "    </tr>\n",
       "    <tr>\n",
       "      <th>4</th>\n",
       "      <td>2003-05-01</td>\n",
       "      <td>1835</td>\n",
       "      <td>145.8</td>\n",
       "      <td>1.83</td>\n",
       "      <td>14743.567</td>\n",
       "      <td>101</td>\n",
       "      <td>25.93</td>\n",
       "      <td>10832.0</td>\n",
       "      <td>1.26</td>\n",
       "      <td>5.4840</td>\n",
       "      <td>1733</td>\n",
       "      <td>111278.0</td>\n",
       "      <td>0.2</td>\n",
       "      <td>6.1</td>\n",
       "      <td>79.583</td>\n",
       "      <td>131.735</td>\n",
       "    </tr>\n",
       "  </tbody>\n",
       "</table>\n",
       "</div>"
      ],
      "text/plain": [
       "         DATE  building_permits  construction_price_index  delinquency_rate  \\\n",
       "0  2003-01-01              1808                     144.4              1.97   \n",
       "1  2003-02-01              1854                     145.2              1.97   \n",
       "2  2003-03-01              1757                     145.2              1.97   \n",
       "3  2003-04-01              1803                     145.9              1.83   \n",
       "4  2003-05-01              1835                     145.8              1.83   \n",
       "\n",
       "         GDP  housing_inventory  housing_subsidies   income  interest_rate  \\\n",
       "0  14614.141                 76              25.93  10710.4           1.24   \n",
       "1  14614.141                 82              25.93  10674.0           1.26   \n",
       "2  14614.141                 98              25.93  10696.5           1.25   \n",
       "3  14743.567                 91              25.93  10752.7           1.26   \n",
       "4  14743.567                101              25.93  10832.0           1.26   \n",
       "\n",
       "   mortgage_rate  construction_unit  households  construction_spending_change  \\\n",
       "0         5.9160               1654    111278.0                           1.5   \n",
       "1         5.8425               1688    111278.0                          -0.1   \n",
       "2         5.7450               1638    111278.0                          -1.1   \n",
       "3         5.8125               1662    111278.0                           1.7   \n",
       "4         5.4840               1733    111278.0                           0.2   \n",
       "\n",
       "   unemployment_rate  urban_population  home_price_index  \n",
       "0                5.8            79.583           128.461  \n",
       "1                5.9            79.583           129.355  \n",
       "2                5.9            79.583           130.148  \n",
       "3                6.0            79.583           130.884  \n",
       "4                6.1            79.583           131.735  "
      ]
     },
     "execution_count": 2,
     "metadata": {},
     "output_type": "execute_result"
    }
   ],
   "source": [
    "#Import the dataset\n",
    "dataset=pd.read_csv('/Users/coderjuhi/Housing-crash-simulator/data/processed/US_House_Price_clean.csv')\n",
    "dataset.head()"
   ]
  },
  {
   "cell_type": "code",
   "execution_count": 3,
   "metadata": {},
   "outputs": [],
   "source": [
    "X = dataset.iloc[:, :-1].values\n",
    "Y=dataset.iloc[:,-1].values"
   ]
  },
  {
   "cell_type": "code",
   "execution_count": 4,
   "metadata": {},
   "outputs": [
    {
     "data": {
      "text/plain": [
       "array([['2003-01-01', 1808, 144.4, 1.97, 14614.141000000001, 76, 25.93,\n",
       "        10710.4, 1.24, 5.916, 1654, 111278.0, 1.5, 5.8, 79.583],\n",
       "       ['2003-02-01', 1854, 145.2, 1.97, 14614.141000000001, 82, 25.93,\n",
       "        10674.0, 1.26, 5.8425, 1688, 111278.0, -0.1, 5.9, 79.583],\n",
       "       ['2003-03-01', 1757, 145.2, 1.97, 14614.141000000001, 98, 25.93,\n",
       "        10696.5, 1.25, 5.745, 1638, 111278.0, -1.1, 5.9, 79.583],\n",
       "       ['2003-04-01', 1803, 145.9, 1.83, 14743.567, 91, 25.93, 10752.7,\n",
       "        1.26, 5.8125, 1662, 111278.0, 1.7, 6.0, 79.583],\n",
       "       ['2003-05-01', 1835, 145.8, 1.83, 14743.567, 101, 25.93, 10832.0,\n",
       "        1.26, 5.484, 1733, 111278.0, 0.2, 6.1, 79.583],\n",
       "       ['2003-06-01', 1875, 146.1, 1.83, 14743.567, 107, 25.93, 10860.6,\n",
       "        1.22, 5.23, 1641, 111278.0, 2.3, 6.3, 79.583],\n",
       "       ['2003-07-01', 1885, 147.0, 1.73, 14988.782, 99, 25.93, 10991.1,\n",
       "        1.01, 5.6325, 1680, 111278.0, 4.1, 6.2, 79.583],\n",
       "       ['2003-08-01', 1966, 147.2, 1.73, 14988.782, 105, 25.93, 11066.7,\n",
       "        1.03, 6.263999999999999, 1570, 111278.0, 1.0, 6.1, 79.583],\n",
       "       ['2003-09-01', 1961, 149.0, 1.73, 14988.782, 90, 25.93, 10940.8,\n",
       "        1.01, 6.1475, 1719, 111278.0, 1.2, 6.1, 79.583],\n",
       "       ['2003-10-01', 2012, 149.6, 1.76, 15162.76, 88, 25.93, 10982.3,\n",
       "        1.01, 5.952000000000001, 1728, 111278.0, 2.4, 6.0, 79.583]],\n",
       "      dtype=object)"
      ]
     },
     "execution_count": 4,
     "metadata": {},
     "output_type": "execute_result"
    }
   ],
   "source": [
    "X[0:10]"
   ]
  },
  {
   "cell_type": "code",
   "execution_count": 6,
   "metadata": {},
   "outputs": [
    {
     "data": {
      "text/plain": [
       "array([128.461, 129.355, 130.148, 130.884, 131.735, 132.649, 133.777,\n",
       "       134.969, 136.294, 137.531])"
      ]
     },
     "execution_count": 6,
     "metadata": {},
     "output_type": "execute_result"
    }
   ],
   "source": [
    "Y[0:10]"
   ]
  },
  {
   "cell_type": "code",
   "execution_count": 7,
   "metadata": {},
   "outputs": [
    {
     "data": {
      "text/plain": [
       "(240, 16)"
      ]
     },
     "execution_count": 7,
     "metadata": {},
     "output_type": "execute_result"
    }
   ],
   "source": [
    "dataset.shape"
   ]
  },
  {
   "cell_type": "code",
   "execution_count": 8,
   "metadata": {},
   "outputs": [
    {
     "data": {
      "text/plain": [
       "array([['2003-01-01', 1808, 144.4, 1.97, 14614.141000000001, 76, 25.93,\n",
       "        10710.4, 1.24, 5.916, 1654, 111278.0, 1.5, 5.8, 79.583],\n",
       "       ['2003-02-01', 1854, 145.2, 1.97, 14614.141000000001, 82, 25.93,\n",
       "        10674.0, 1.26, 5.8425, 1688, 111278.0, -0.1, 5.9, 79.583],\n",
       "       ['2003-03-01', 1757, 145.2, 1.97, 14614.141000000001, 98, 25.93,\n",
       "        10696.5, 1.25, 5.745, 1638, 111278.0, -1.1, 5.9, 79.583],\n",
       "       ['2003-04-01', 1803, 145.9, 1.83, 14743.567, 91, 25.93, 10752.7,\n",
       "        1.26, 5.8125, 1662, 111278.0, 1.7, 6.0, 79.583],\n",
       "       ['2003-05-01', 1835, 145.8, 1.83, 14743.567, 101, 25.93, 10832.0,\n",
       "        1.26, 5.484, 1733, 111278.0, 0.2, 6.1, 79.583]], dtype=object)"
      ]
     },
     "execution_count": 8,
     "metadata": {},
     "output_type": "execute_result"
    }
   ],
   "source": [
    "X[0:5]"
   ]
  },
  {
   "cell_type": "code",
   "execution_count": 9,
   "metadata": {},
   "outputs": [
    {
     "data": {
      "text/plain": [
       "array([128.461, 129.355, 130.148, 130.884, 131.735])"
      ]
     },
     "execution_count": 9,
     "metadata": {},
     "output_type": "execute_result"
    }
   ],
   "source": [
    "Y[0:5]"
   ]
  },
  {
   "cell_type": "code",
   "execution_count": null,
   "metadata": {},
   "outputs": [],
   "source": [
    "#hello"
   ]
  }
 ],
 "metadata": {
  "kernelspec": {
   "display_name": "base",
   "language": "python",
   "name": "python3"
  },
  "language_info": {
   "codemirror_mode": {
    "name": "ipython",
    "version": 3
   },
   "file_extension": ".py",
   "mimetype": "text/x-python",
   "name": "python",
   "nbconvert_exporter": "python",
   "pygments_lexer": "ipython3",
   "version": "3.8.5"
  },
  "orig_nbformat": 4
 },
 "nbformat": 4,
 "nbformat_minor": 2
}
